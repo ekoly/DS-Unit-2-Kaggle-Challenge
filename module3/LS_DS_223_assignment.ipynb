{
 "cells": [
  {
   "cell_type": "markdown",
   "metadata": {},
   "source": [
    "Lambda School Data Science\n",
    "\n",
    "*Unit 2, Sprint 2, Module 3*\n",
    "\n",
    "---"
   ]
  },
  {
   "cell_type": "markdown",
   "metadata": {},
   "source": [
    "# Cross-Validation\n",
    "\n",
    "\n",
    "## Assignment\n",
    "- [ ] [Review requirements for your portfolio project](https://lambdaschool.github.io/ds/unit2), then submit your dataset.\n",
    "- [ ] Continue to participate in our Kaggle challenge. \n",
    "- [ ] Use scikit-learn for hyperparameter optimization with RandomizedSearchCV.\n",
    "- [ ] Submit your predictions to our Kaggle competition. (Go to our Kaggle InClass competition webpage. Use the blue **Submit Predictions** button to upload your CSV file. Or you can use the Kaggle API to submit your predictions.)\n",
    "- [ ] Commit your notebook to your fork of the GitHub repo.\n",
    "\n",
    "\n",
    "You won't be able to just copy from the lesson notebook to this assignment.\n",
    "\n",
    "- Because the lesson was ***regression***, but the assignment is ***classification.***\n",
    "- Because the lesson used [TargetEncoder](https://contrib.scikit-learn.org/categorical-encoding/targetencoder.html), which doesn't work as-is for _multi-class_ classification.\n",
    "\n",
    "So you will have to adapt the example, which is good real-world practice.\n",
    "\n",
    "1. Use a model for classification, such as [RandomForestClassifier](https://scikit-learn.org/stable/modules/generated/sklearn.ensemble.RandomForestClassifier.html)\n",
    "2. Use hyperparameters that match the classifier, such as `randomforestclassifier__ ...`\n",
    "3. Use a metric for classification, such as [`scoring='accuracy'`](https://scikit-learn.org/stable/modules/model_evaluation.html#common-cases-predefined-values)\n",
    "4. If you’re doing a multi-class classification problem — such as whether a waterpump is functional, functional needs repair, or nonfunctional — then use a categorical encoding that works for multi-class classification, such as [OrdinalEncoder](https://contrib.scikit-learn.org/categorical-encoding/ordinal.html) (not [TargetEncoder](https://contrib.scikit-learn.org/categorical-encoding/targetencoder.html))\n",
    "\n",
    "\n",
    "\n",
    "## Stretch Goals\n",
    "\n",
    "### Reading\n",
    "- Jake VanderPlas, [Python Data Science Handbook, Chapter 5.3](https://jakevdp.github.io/PythonDataScienceHandbook/05.03-hyperparameters-and-model-validation.html), Hyperparameters and Model Validation\n",
    "- Jake VanderPlas, [Statistics for Hackers](https://speakerdeck.com/jakevdp/statistics-for-hackers?slide=107)\n",
    "- Ron Zacharski, [A Programmer's Guide to Data Mining, Chapter 5](http://guidetodatamining.com/chapter5/), 10-fold cross validation\n",
    "- Sebastian Raschka, [A Basic Pipeline and Grid Search Setup](https://github.com/rasbt/python-machine-learning-book/blob/master/code/bonus/svm_iris_pipeline_and_gridsearch.ipynb)\n",
    "- Peter Worcester, [A Comparison of Grid Search and Randomized Search Using Scikit Learn](https://blog.usejournal.com/a-comparison-of-grid-search-and-randomized-search-using-scikit-learn-29823179bc85)\n",
    "\n",
    "### Doing\n",
    "- Add your own stretch goals!\n",
    "- Try other [categorical encodings](https://contrib.scikit-learn.org/categorical-encoding/). See the previous assignment notebook for details.\n",
    "- In additon to `RandomizedSearchCV`, scikit-learn has [`GridSearchCV`](https://scikit-learn.org/stable/modules/generated/sklearn.model_selection.GridSearchCV.html). Another library called scikit-optimize has [`BayesSearchCV`](https://scikit-optimize.github.io/notebooks/sklearn-gridsearchcv-replacement.html). Experiment with these alternatives.\n",
    "- _[Introduction to Machine Learning with Python](http://shop.oreilly.com/product/0636920030515.do)_ discusses options for \"Grid-Searching Which Model To Use\" in Chapter 6:\n",
    "\n",
    "> You can even go further in combining GridSearchCV and Pipeline: it is also possible to search over the actual steps being performed in the pipeline (say whether to use StandardScaler or MinMaxScaler). This leads to an even bigger search space and should be considered carefully. Trying all possible solutions is usually not a viable machine learning strategy. However, here is an example comparing a RandomForestClassifier and an SVC ...\n",
    "\n",
    "The example is shown in [the accompanying notebook](https://github.com/amueller/introduction_to_ml_with_python/blob/master/06-algorithm-chains-and-pipelines.ipynb), code cells 35-37. Could you apply this concept to your own pipelines?\n"
   ]
  },
  {
   "cell_type": "markdown",
   "metadata": {},
   "source": [
    "### BONUS: Stacking!\n",
    "\n",
    "Here's some code you can use to \"stack\" multiple submissions, which is another form of ensembling:\n",
    "\n",
    "```python\n",
    "import pandas as pd\n",
    "\n",
    "# Filenames of your submissions you want to ensemble\n",
    "files = ['submission-01.csv', 'submission-02.csv', 'submission-03.csv']\n",
    "\n",
    "target = 'status_group'\n",
    "submissions = (pd.read_csv(file)[[target]] for file in files)\n",
    "ensemble = pd.concat(submissions, axis='columns')\n",
    "majority_vote = ensemble.mode(axis='columns')[0]\n",
    "\n",
    "sample_submission = pd.read_csv('sample_submission.csv')\n",
    "submission = sample_submission.copy()\n",
    "submission[target] = majority_vote\n",
    "submission.to_csv('my-ultimate-ensemble-submission.csv', index=False)\n",
    "```"
   ]
  },
  {
   "cell_type": "code",
   "execution_count": 1,
   "metadata": {},
   "outputs": [],
   "source": [
    "%%capture\n",
    "import sys\n",
    "\n",
    "# If you're on Colab:\n",
    "if 'google.colab' in sys.modules:\n",
    "    DATA_PATH = 'https://raw.githubusercontent.com/LambdaSchool/DS-Unit-2-Kaggle-Challenge/master/data/'\n",
    "    !pip install category_encoders==2.*\n",
    "\n",
    "# If you're working locally:\n",
    "else:\n",
    "    DATA_PATH = '../data/'"
   ]
  },
  {
   "cell_type": "code",
   "execution_count": 2,
   "metadata": {},
   "outputs": [],
   "source": [
    "import pandas as pd\n",
    "\n",
    "# Merge train_features.csv & train_labels.csv\n",
    "train = pd.merge(pd.read_csv(DATA_PATH+'waterpumps/train_features.csv'), \n",
    "                 pd.read_csv(DATA_PATH+'waterpumps/train_labels.csv'))\n",
    "\n",
    "# Read test_features.csv & sample_submission.csv\n",
    "test = pd.read_csv(DATA_PATH+'waterpumps/test_features.csv')\n",
    "sample_submission = pd.read_csv(DATA_PATH+'waterpumps/sample_submission.csv')"
   ]
  },
  {
   "cell_type": "code",
   "execution_count": 3,
   "metadata": {},
   "outputs": [],
   "source": [
    "# make a compy of train in case it gets corrupted\n",
    "train_cp = train.copy()"
   ]
  },
  {
   "cell_type": "code",
   "execution_count": 4,
   "metadata": {},
   "outputs": [],
   "source": [
    "import numpy as np\n",
    "\n",
    "def engineerFeatures(df):\n",
    "    \n",
    "    df[\"date_recorded_datetime\"] = pd.to_datetime(df[\"date_recorded\"])\n",
    "\n",
    "    df[\"date_recorded_epoch\"] = df[\"date_recorded_datetime\"].astype(np.int64)\n",
    "    df[\"date_recorded_month\"] = df[\"date_recorded_datetime\"].apply(lambda x: x.month)\n",
    "    df[\"date_recorded_year\"] = df[\"date_recorded_datetime\"].apply(lambda x: x.year).astype(np.object)\n",
    "\n",
    "    df[\"construction_year_na\"] = (df[\"construction_year\"] == 0).apply(lambda x: 1 if x else 0)\n",
    "\n",
    "    df[\"age\"] = df[\"date_recorded_year\"] - df[\"construction_year\"].apply(lambda x: x if x > 0 else 3000)\n",
    "    df[\"age\"] = df[\"age\"].apply(lambda x: x if x > 0 else df[\"age\"].median())\n",
    "\n",
    "    df[\"nan_count\"] = df.replace({\"unknown\": np.NaN}).isnull().sum(axis=1)\n",
    "    \n",
    "    df[\"age_brackets\"] = pd.cut(df[\"age\"], [0, 1, 4, 16, 999], labels=[str(x) for x in range(4)]).astype(np.object)\n",
    "    for col in [\"funder\", \"wpt_name\", \"region\", \"management\", \"source\", \"installer\"]:\n",
    "        df[\"age_brackets_by_\"+col] = df[\"age_brackets\"] + \"_\" + df[col]\n",
    "        \n",
    "\n",
    "engineerFeatures(train)\n",
    "engineerFeatures(test)\n",
    "\n",
    "engineered = train.copy()"
   ]
  },
  {
   "cell_type": "code",
   "execution_count": 5,
   "metadata": {},
   "outputs": [
    {
     "data": {
      "text/plain": [
       "Index(['id', 'amount_tsh', 'date_recorded', 'funder', 'gps_height',\n",
       "       'installer', 'longitude', 'latitude', 'wpt_name', 'num_private',\n",
       "       'basin', 'subvillage', 'region', 'region_code', 'district_code', 'lga',\n",
       "       'ward', 'population', 'public_meeting', 'recorded_by',\n",
       "       'scheme_management', 'scheme_name', 'permit', 'construction_year',\n",
       "       'extraction_type', 'extraction_type_group', 'extraction_type_class',\n",
       "       'management', 'management_group', 'payment', 'payment_type',\n",
       "       'water_quality', 'quality_group', 'quantity', 'quantity_group',\n",
       "       'source', 'source_type', 'source_class', 'waterpoint_type',\n",
       "       'waterpoint_type_group', 'status_group', 'date_recorded_datetime',\n",
       "       'date_recorded_epoch', 'date_recorded_month', 'date_recorded_year',\n",
       "       'construction_year_na', 'age', 'nan_count', 'age_brackets',\n",
       "       'age_brackets_by_funder', 'age_brackets_by_wpt_name',\n",
       "       'age_brackets_by_region', 'age_brackets_by_management',\n",
       "       'age_brackets_by_source', 'age_brackets_by_installer'],\n",
       "      dtype='object')"
      ]
     },
     "execution_count": 5,
     "metadata": {},
     "output_type": "execute_result"
    }
   ],
   "source": [
    "engineered.columns"
   ]
  },
  {
   "cell_type": "code",
   "execution_count": 10,
   "metadata": {},
   "outputs": [],
   "source": [
    "# re-import everything so we have it in one place\n",
    "import numpy as np\n",
    "from sklearn.model_selection import train_test_split\n",
    "import category_encoders as ce\n",
    "from sklearn.impute import SimpleImputer\n",
    "from sklearn.experimental import enable_iterative_imputer\n",
    "from sklearn.impute import IterativeImputer\n",
    "from sklearn.tree import DecisionTreeClassifier\n",
    "from sklearn.ensemble import RandomForestClassifier\n",
    "from sklearn.pipeline import make_pipeline\n",
    "from sklearn.preprocessing import StandardScaler\n",
    "\n",
    "from sklearn.compose import make_column_transformer\n",
    "\n",
    "from sklearn.feature_selection import SelectKBest\n",
    "\n",
    "from matplotlib import pyplot as plt\n",
    "\n",
    "from sklearn.metrics import accuracy_score\n",
    "\n",
    "train = engineered.copy()\n",
    "\n",
    "target = \"status_group\"\n",
    "\n",
    "bad_cols = [\n",
    "    \"id\",\n",
    "    \"scheme_name\",\n",
    "    \"date_recorded\",\n",
    "    \"date_recorded_datetime\",\n",
    "    \"construction_year\",\n",
    "    \"management_group\",\n",
    "    \"payment_type\",\n",
    "    \"quantity_group\",\n",
    "    \"source_type\",\n",
    "    \"waterpoint_type_group\",\n",
    "    \"extraction_type_group\",\n",
    "    \"extraction_type_class\",\n",
    "    \"region_code\",\n",
    "    \"district_code\",\n",
    "    \"wpt_name\",\n",
    "    \"management\",\n",
    "]\n",
    "\n",
    "features = train.columns.drop([target] + bad_cols)\n"
   ]
  },
  {
   "cell_type": "code",
   "execution_count": 11,
   "metadata": {},
   "outputs": [],
   "source": [
    "from sklearn.impute import SimpleImputer\n",
    "from sklearn.linear_model import RidgeCV\n",
    "from sklearn.tree import DecisionTreeRegressor\n",
    "\n",
    "class CustomImputer(SimpleImputer):\n",
    "\n",
    "    def __init__(self):\n",
    "        self.__col_to_reg = {}\n",
    "    \n",
    "\n",
    "    def fit(self, *args, **kwargs):\n",
    "\n",
    "        df = args[0]\n",
    "        self.__col_to_reg = {}\n",
    "\n",
    "        for col in df.columns:\n",
    "            features = df.columns.drop(col)\n",
    "            target = col\n",
    "\n",
    "            reg = DecisionTreeRegressor()\n",
    "            reg.fit(df[features], df[col])\n",
    "\n",
    "            self.__col_to_reg[col] = reg\n",
    "        \n",
    "        return df\n",
    "        \n",
    "\n",
    "    def transform(self, *args, **kwargs):\n",
    "\n",
    "        df = args[0]\n",
    "        df = df.copy()\n",
    "\n",
    "        for col in df.columns[df.isna().any()]:\n",
    "\n",
    "            features = df.columns.drop(col)\n",
    "\n",
    "            reg = self.__col_to_reg[col]\n",
    "            df[col] = reg.predict(df[features])*df[col].isnull().astype(np.int64) + df[col]*(~(df[col].isnull()).astype(np.int64))\n",
    "        \n",
    "        return df\n",
    "\n",
    "    \n",
    "    def fit_transform(self, *args, **kwargs):\n",
    "        df = args[0]\n",
    "\n",
    "        self.fit(df)\n",
    "        return self.transform(df)\n"
   ]
  },
  {
   "cell_type": "code",
   "execution_count": 12,
   "metadata": {},
   "outputs": [],
   "source": [
    "def runPredictions():\n",
    "    \"\"\"\n",
    "        Split the data, make a pipeline, fit the pipeline,\n",
    "        make predictions, print the feature importance\n",
    "\n",
    "        @returns: pipeline\n",
    "    \"\"\"\n",
    "    global train, features, score, X_val, y_val\n",
    "\n",
    "    high_card = []\n",
    "    low_card = []\n",
    "\n",
    "    for col in train[features].select_dtypes(include=\"object\"):\n",
    "        if len(train[col].value_counts()) > 50:\n",
    "            high_card.append(col)\n",
    "        else:\n",
    "            low_card.append(col)\n",
    "\n",
    "    # split data\n",
    "    trn, val = train_test_split(train)\n",
    "\n",
    "    X_train = trn[features]\n",
    "    y_train = trn[target]\n",
    "\n",
    "    X_val = val[features]\n",
    "    y_val = val[target]\n",
    "\n",
    "    # make the pipeline\n",
    "    pipeline = make_pipeline(\n",
    "        make_column_transformer(\n",
    "            (ce.OrdinalEncoder(), high_card),\n",
    "            (ce.OneHotEncoder(), low_card),\n",
    "        ),\n",
    "        SimpleImputer(),\n",
    "        StandardScaler(),\n",
    "        RandomForestClassifier(random_state=511, n_jobs=-1, n_estimators=120),\n",
    "    )\n",
    "\n",
    "    pipeline.fit(X_train, y_train)\n",
    "\n",
    "    # make predictions\n",
    "    y_pred = pipeline.predict(X_val)\n",
    "    score = accuracy_score(y_pred, y_val)\n",
    "    print(f\"\"\"\n",
    "        Model accuracy score: {score}\n",
    "    \"\"\")\n",
    "\n",
    "    # make visualizations\n",
    "    model = pipeline.named_steps[\"randomforestclassifier\"]\n",
    "    #encoder = pipeline.named_steps[\"ordinalencoder\"]\n",
    "    #encoded_cols = encoder.transform(X_val).columns\n",
    "    #importances = pd.Series(model.feature_importances_, encoded_cols)\n",
    "\n",
    "    #fig, ax = plt.subplots(figsize=(10, 40))\n",
    "    #importances.sort_values().plot.barh(color=\"gray\", ax=ax)\n",
    "    #fig.show()\n",
    "\n",
    "    return pipeline"
   ]
  },
  {
   "cell_type": "code",
   "execution_count": 13,
   "metadata": {},
   "outputs": [
    {
     "name": "stdout",
     "output_type": "stream",
     "text": [
      "\n",
      "        Model accuracy score: 0.7857239057239057\n",
      "    \n"
     ]
    }
   ],
   "source": [
    "pipeline = runPredictions()"
   ]
  },
  {
   "cell_type": "code",
   "execution_count": 14,
   "metadata": {},
   "outputs": [],
   "source": [
    "def runPredictions():\n",
    "    \"\"\"\n",
    "        Split the data, make a pipeline, fit the pipeline,\n",
    "        make predictions, print the feature importance\n",
    "\n",
    "        @returns: pipeline\n",
    "    \"\"\"\n",
    "    global train, features, score, X_val, y_val\n",
    "\n",
    "    # split data\n",
    "    trn, val = train_test_split(train)\n",
    "\n",
    "    X_train = trn[features]\n",
    "    y_train = trn[target]\n",
    "\n",
    "    X_val = val[features]\n",
    "    y_val = val[target]\n",
    "\n",
    "    # make the pipeline\n",
    "    pipeline = make_pipeline(\n",
    "        ce.OrdinalEncoder(),\n",
    "        CustomImputer(),\n",
    "        StandardScaler(),\n",
    "        RandomForestClassifier(random_state=511, n_jobs=-1, n_estimators=120),\n",
    "    )\n",
    "\n",
    "    pipeline.fit(X_train, y_train)\n",
    "\n",
    "    # make predictions\n",
    "    y_pred = pipeline.predict(X_val)\n",
    "    score = accuracy_score(y_pred, y_val)\n",
    "    print(f\"\"\"\n",
    "        Model accuracy score: {score}\n",
    "    \"\"\")\n",
    "\n",
    "    # make visualizations\n",
    "    model = pipeline.named_steps[\"randomforestclassifier\"]\n",
    "    #encoder = pipeline.named_steps[\"ordinalencoder\"]\n",
    "    #encoded_cols = encoder.transform(X_val).columns\n",
    "    #importances = pd.Series(model.feature_importances_, encoded_cols)\n",
    "\n",
    "    #fig, ax = plt.subplots(figsize=(10, 40))\n",
    "    #importances.sort_values().plot.barh(color=\"gray\", ax=ax)\n",
    "    #fig.show()\n",
    "\n",
    "    return pipeline"
   ]
  },
  {
   "cell_type": "code",
   "execution_count": 15,
   "metadata": {},
   "outputs": [
    {
     "name": "stdout",
     "output_type": "stream",
     "text": [
      "\n",
      "        Model accuracy score: 0.8034343434343434\n",
      "    \n"
     ]
    }
   ],
   "source": [
    "pipeline = runPredictions()"
   ]
  },
  {
   "cell_type": "code",
   "execution_count": null,
   "metadata": {},
   "outputs": [
    {
     "name": "stdout",
     "output_type": "stream",
     "text": [
      "Fitting 5 folds for each of 120 candidates, totalling 600 fits\n"
     ]
    },
    {
     "name": "stderr",
     "output_type": "stream",
     "text": [
      "[Parallel(n_jobs=-1)]: Using backend LokyBackend with 2 concurrent workers.\n",
      "[Parallel(n_jobs=-1)]: Done   1 tasks      | elapsed:   29.4s\n",
      "[Parallel(n_jobs=-1)]: Done   4 tasks      | elapsed:  1.0min\n"
     ]
    }
   ],
   "source": [
    "# use RandomSearchCv\n",
    "\n",
    "from sklearn.model_selection import RandomizedSearchCV\n",
    "from sklearn.feature_selection import f_regression, f_classif, SelectKBest\n",
    "\n",
    "trn, val = train_test_split(train)\n",
    "\n",
    "X_train = trn[features]\n",
    "y_train = trn[target].replace({\"functional\": 0, \"functional needs repair\": 1, \"non functional\": 2})\n",
    "\n",
    "X_val = val[features]\n",
    "y_val = val[target]\n",
    "\n",
    "pipeline = make_pipeline(\n",
    "    ce.OrdinalEncoder(),\n",
    "    CustomImputer(),\n",
    "    StandardScaler(),\n",
    "    SelectKBest(f_regression),\n",
    "    RandomForestClassifier(n_jobs=-1),\n",
    ")\n",
    "\n",
    "param_distributions = {\n",
    "    \"selectkbest__k\": range(1, len(X_train.columns)),\n",
    "    \"randomforestclassifier__n_estimators\": range(80, 500),\n",
    "}\n",
    "\n",
    "\n",
    "search = RandomizedSearchCV(\n",
    "    pipeline,\n",
    "    param_distributions=param_distributions,\n",
    "    n_iter=120,\n",
    "    cv=5,\n",
    "    scoring=\"neg_mean_absolute_error\",\n",
    "    verbose=10,\n",
    "    return_train_score=True,\n",
    "    n_jobs=-1,\n",
    ")\n",
    "\n",
    "search.fit(X_train, y_train)"
   ]
  },
  {
   "cell_type": "code",
   "execution_count": 23,
   "metadata": {},
   "outputs": [
    {
     "data": {
      "text/plain": [
       "{'selectkbest__k': 32, 'randomforestclassifier__n_estimators': 497}"
      ]
     },
     "execution_count": 23,
     "metadata": {},
     "output_type": "execute_result"
    }
   ],
   "source": [
    "search.best_params_"
   ]
  },
  {
   "cell_type": "code",
   "execution_count": null,
   "metadata": {},
   "outputs": [],
   "source": []
  }
 ],
 "metadata": {
  "kernelspec": {
   "display_name": "Python 3",
   "language": "python",
   "name": "python3"
  },
  "language_info": {
   "codemirror_mode": {
    "name": "ipython",
    "version": 3
   },
   "file_extension": ".py",
   "mimetype": "text/x-python",
   "name": "python",
   "nbconvert_exporter": "python",
   "pygments_lexer": "ipython3",
   "version": "3.6.9"
  }
 },
 "nbformat": 4,
 "nbformat_minor": 4
}
