{
 "cells": [
  {
   "cell_type": "markdown",
   "metadata": {},
   "source": [
    "Lambda School Data Science\n",
    "\n",
    "*Unit 2, Sprint 2, Module 4*\n",
    "\n",
    "---"
   ]
  },
  {
   "cell_type": "markdown",
   "metadata": {
    "colab_type": "text",
    "id": "nCc3XZEyG3XV"
   },
   "source": [
    "# Classification Metrics\n",
    "\n",
    "## Assignment\n",
    "- [ ] If you haven't yet, [review requirements for your portfolio project](https://lambdaschool.github.io/ds/unit2), then submit your dataset.\n",
    "- [ ] Plot a confusion matrix for your Tanzania Waterpumps model.\n",
    "- [ ] Continue to participate in our Kaggle challenge. Every student should have made at least one submission that scores at least 70% accuracy (well above the majority class baseline).\n",
    "- [ ] Submit your final predictions to our Kaggle competition. Optionally, go to **My Submissions**, and _\"you may select up to 1 submission to be used to count towards your final leaderboard score.\"_\n",
    "- [ ] Commit your notebook to your fork of the GitHub repo.\n",
    "- [ ] Read [Maximizing Scarce Maintenance Resources with Data: Applying predictive modeling, precision at k, and clustering to optimize impact](https://towardsdatascience.com/maximizing-scarce-maintenance-resources-with-data-8f3491133050), by Lambda DS3 student Michael Brady. His blog post extends the Tanzania Waterpumps scenario, far beyond what's in the lecture notebook.\n",
    "\n",
    "\n",
    "## Stretch Goals\n",
    "\n",
    "### Reading\n",
    "- [Attacking discrimination with smarter machine learning](https://research.google.com/bigpicture/attacking-discrimination-in-ml/), by Google Research, with  interactive visualizations. _\"A threshold classifier essentially makes a yes/no decision, putting things in one category or another. We look at how these classifiers work, ways they can potentially be unfair, and how you might turn an unfair classifier into a fairer one. As an illustrative example, we focus on loan granting scenarios where a bank may grant or deny a loan based on a single, automatically computed number such as a credit score.\"_\n",
    "- [Notebook about how to calculate expected value from a confusion matrix by treating it as a cost-benefit matrix](https://github.com/podopie/DAT18NYC/blob/master/classes/13-expected_value_cost_benefit_analysis.ipynb)\n",
    "- [Simple guide to confusion matrix terminology](https://www.dataschool.io/simple-guide-to-confusion-matrix-terminology/) by Kevin Markham, with video\n",
    "- [Visualizing Machine Learning Thresholds to Make Better Business Decisions](https://blog.insightdatascience.com/visualizing-machine-learning-thresholds-to-make-better-business-decisions-4ab07f823415)\n",
    "\n",
    "\n",
    "### Doing\n",
    "- [ ] Share visualizations in our Slack channel!\n",
    "- [ ] RandomizedSearchCV / GridSearchCV, for model selection. (See module 3 assignment notebook)\n",
    "- [ ] More Categorical Encoding. (See module 2 assignment notebook)\n",
    "- [ ] Stacking Ensemble. (See below)\n",
    "\n",
    "### Stacking Ensemble\n",
    "\n",
    "Here's some code you can use to \"stack\" multiple submissions, which is another form of ensembling:\n",
    "\n",
    "```python\n",
    "import pandas as pd\n",
    "\n",
    "# Filenames of your submissions you want to ensemble\n",
    "files = ['submission-01.csv', 'submission-02.csv', 'submission-03.csv']\n",
    "\n",
    "target = 'status_group'\n",
    "submissions = (pd.read_csv(file)[[target]] for file in files)\n",
    "ensemble = pd.concat(submissions, axis='columns')\n",
    "majority_vote = ensemble.mode(axis='columns')[0]\n",
    "\n",
    "sample_submission = pd.read_csv('sample_submission.csv')\n",
    "submission = sample_submission.copy()\n",
    "submission[target] = majority_vote\n",
    "submission.to_csv('my-ultimate-ensemble-submission.csv', index=False)\n",
    "```"
   ]
  },
  {
   "cell_type": "code",
   "execution_count": 2,
   "metadata": {
    "colab": {},
    "colab_type": "code",
    "id": "lsbRiKBoB5RE"
   },
   "outputs": [],
   "source": [
    "%%capture\n",
    "import sys\n",
    "\n",
    "# If you're on Colab:\n",
    "if 'google.colab' in sys.modules:\n",
    "    DATA_PATH = 'https://raw.githubusercontent.com/LambdaSchool/DS-Unit-2-Kaggle-Challenge/master/data/'\n",
    "    !pip install category_encoders==2.*\n",
    "\n",
    "# If you're working locally:\n",
    "else:\n",
    "    DATA_PATH = '../data/'"
   ]
  },
  {
   "cell_type": "code",
   "execution_count": 3,
   "metadata": {
    "colab": {},
    "colab_type": "code",
    "id": "BVA1lph8CcNX"
   },
   "outputs": [],
   "source": [
    "import pandas as pd\n",
    "\n",
    "# Merge train_features.csv & train_labels.csv\n",
    "train = pd.merge(pd.read_csv(DATA_PATH+'waterpumps/train_features.csv'), \n",
    "                 pd.read_csv(DATA_PATH+'waterpumps/train_labels.csv'))\n",
    "\n",
    "# Read test_features.csv & sample_submission.csv\n",
    "test = pd.read_csv(DATA_PATH+'waterpumps/test_features.csv')\n",
    "sample_submission = pd.read_csv(DATA_PATH+'waterpumps/sample_submission.csv')"
   ]
  },
  {
   "cell_type": "code",
   "execution_count": 4,
   "metadata": {},
   "outputs": [],
   "source": [
    "# make a compy of train in case it gets corrupted\n",
    "train_cp = train.copy()"
   ]
  },
  {
   "cell_type": "code",
   "execution_count": 5,
   "metadata": {},
   "outputs": [],
   "source": [
    "import numpy as np\n",
    "\n",
    "def engineerFeatures(df):\n",
    "    \n",
    "    df[\"date_recorded_datetime\"] = pd.to_datetime(df[\"date_recorded\"])\n",
    "\n",
    "    df[\"date_recorded_epoch\"] = df[\"date_recorded_datetime\"].astype(np.int64)\n",
    "    df[\"date_recorded_month\"] = df[\"date_recorded_datetime\"].apply(lambda x: x.month)\n",
    "    df[\"date_recorded_year\"] = df[\"date_recorded_datetime\"].apply(lambda x: x.year).astype(np.object)\n",
    "\n",
    "    df[\"construction_year_na\"] = (df[\"construction_year\"] == 0).apply(lambda x: 1 if x else 0)\n",
    "\n",
    "    df[\"age\"] = df[\"date_recorded_year\"] - df[\"construction_year\"].apply(lambda x: x if x > 0 else 3000)\n",
    "    df[\"age\"] = df[\"age\"].apply(lambda x: x if x > 0 else df[\"age\"].median())\n",
    "\n",
    "    df[\"nan_count\"] = df.replace({\"unknown\": np.NaN}).isnull().sum(axis=1)\n",
    "    \n",
    "    df[\"age_brackets\"] = pd.cut(df[\"age\"], [0, 1, 4, 16, 999], labels=[str(x) for x in range(4)]).astype(np.object)\n",
    "    for col in [\"funder\", \"wpt_name\", \"region\", \"management\", \"source\", \"installer\"]:\n",
    "        df[\"age_brackets_by_\"+col] = df[\"age_brackets\"] + \"_\" + df[col]\n",
    "        \n",
    "\n",
    "engineerFeatures(train)\n",
    "engineerFeatures(test)\n",
    "\n",
    "engineered = train.copy()"
   ]
  },
  {
   "cell_type": "code",
   "execution_count": 7,
   "metadata": {},
   "outputs": [],
   "source": [
    "# re-import everything so we have it in one place\n",
    "import numpy as np\n",
    "from sklearn.model_selection import train_test_split\n",
    "import category_encoders as ce\n",
    "from sklearn.impute import SimpleImputer\n",
    "from sklearn.experimental import enable_iterative_imputer\n",
    "from sklearn.impute import IterativeImputer\n",
    "from sklearn.tree import DecisionTreeClassifier\n",
    "from sklearn.ensemble import RandomForestClassifier\n",
    "from sklearn.pipeline import make_pipeline\n",
    "from sklearn.preprocessing import StandardScaler\n",
    "\n",
    "from sklearn.compose import make_column_transformer\n",
    "\n",
    "from sklearn.feature_selection import SelectKBest\n",
    "\n",
    "from matplotlib import pyplot as plt\n",
    "\n",
    "from sklearn.metrics import accuracy_score\n",
    "\n",
    "train = engineered.copy()\n",
    "\n",
    "target = \"status_group\"\n",
    "\n",
    "bad_cols = [\n",
    "    \"id\",\n",
    "    \"scheme_name\",\n",
    "    \"date_recorded\",\n",
    "    \"date_recorded_datetime\",\n",
    "    \"construction_year\",\n",
    "    \"management_group\",\n",
    "    \"payment_type\",\n",
    "    \"quantity_group\",\n",
    "    \"source_type\",\n",
    "    \"waterpoint_type_group\",\n",
    "    \"extraction_type_group\",\n",
    "    \"extraction_type_class\",\n",
    "    \"region_code\",\n",
    "    \"district_code\",\n",
    "    \"wpt_name\",\n",
    "    \"management\",\n",
    "]\n",
    "\n",
    "features = train.columns.drop([target] + bad_cols)\n"
   ]
  },
  {
   "cell_type": "code",
   "execution_count": 8,
   "metadata": {},
   "outputs": [],
   "source": [
    "from sklearn.impute import SimpleImputer\n",
    "from sklearn.linear_model import RidgeCV\n",
    "from sklearn.tree import DecisionTreeRegressor\n",
    "\n",
    "class CustomImputer(SimpleImputer):\n",
    "\n",
    "    def __init__(self):\n",
    "        self.__col_to_reg = {}\n",
    "    \n",
    "\n",
    "    def fit(self, *args, **kwargs):\n",
    "\n",
    "        df = args[0]\n",
    "        self.__col_to_reg = {}\n",
    "\n",
    "        for col in df.columns:\n",
    "            features = df.columns.drop(col)\n",
    "            target = col\n",
    "\n",
    "            reg = DecisionTreeRegressor()\n",
    "            reg.fit(df[features], df[col])\n",
    "\n",
    "            self.__col_to_reg[col] = reg\n",
    "        \n",
    "        return df\n",
    "        \n",
    "\n",
    "    def transform(self, *args, **kwargs):\n",
    "\n",
    "        df = args[0]\n",
    "        df = df.copy()\n",
    "\n",
    "        for col in df.columns[df.isna().any()]:\n",
    "\n",
    "            features = df.columns.drop(col)\n",
    "\n",
    "            reg = self.__col_to_reg[col]\n",
    "            df[col] = reg.predict(df[features])*df[col].isnull().astype(np.int64) + df[col]*(~(df[col].isnull()).astype(np.int64))\n",
    "        \n",
    "        return df\n",
    "\n",
    "    \n",
    "    def fit_transform(self, *args, **kwargs):\n",
    "        df = args[0]\n",
    "\n",
    "        self.fit(df)\n",
    "        return self.transform(df)\n"
   ]
  },
  {
   "cell_type": "code",
   "execution_count": 11,
   "metadata": {},
   "outputs": [],
   "source": [
    "from sklearn.feature_selection import f_regression, f_classif, SelectKBest\n",
    "\n",
    "trn, val = train_test_split(train)\n",
    "\n",
    "X_train = trn[features]\n",
    "y_train = trn[target].replace({\"functional\": 0, \"functional needs repair\": 1, \"non functional\": 2})\n",
    "\n",
    "X_val = val[features]\n",
    "y_val = val[target].replace({\"functional\": 0, \"functional needs repair\": 1, \"non functional\": 2})\n",
    "\n",
    "pipeline = make_pipeline(\n",
    "    ce.OrdinalEncoder(),\n",
    "    CustomImputer(),\n",
    "    StandardScaler(),\n",
    "    SelectKBest(f_regression, k=32),\n",
    "    RandomForestClassifier(n_jobs=-1, n_estimators=497),\n",
    ")"
   ]
  },
  {
   "cell_type": "code",
   "execution_count": 12,
   "metadata": {},
   "outputs": [
    {
     "name": "stderr",
     "output_type": "stream",
     "text": [
      "/home/cowley/venv/lambda/lib/python3.6/site-packages/sklearn/feature_selection/_univariate_selection.py:299: RuntimeWarning: invalid value encountered in true_divide\n",
      "  corr /= X_norms\n",
      "/home/cowley/venv/lambda/lib/python3.6/site-packages/scipy/stats/_distn_infrastructure.py:901: RuntimeWarning: invalid value encountered in greater\n",
      "  return (a < x) & (x < b)\n",
      "/home/cowley/venv/lambda/lib/python3.6/site-packages/scipy/stats/_distn_infrastructure.py:901: RuntimeWarning: invalid value encountered in less\n",
      "  return (a < x) & (x < b)\n",
      "/home/cowley/venv/lambda/lib/python3.6/site-packages/scipy/stats/_distn_infrastructure.py:1892: RuntimeWarning: invalid value encountered in less_equal\n",
      "  cond2 = cond0 & (x <= _a)\n"
     ]
    }
   ],
   "source": [
    "pipeline.fit(X_train, y_train)\n",
    "y_pred = pipeline.predict(X_train)"
   ]
  },
  {
   "cell_type": "code",
   "execution_count": 13,
   "metadata": {},
   "outputs": [
    {
     "data": {
      "text/plain": [
       "array([[24236,     2,     0],\n",
       "       [    0,  3273,     1],\n",
       "       [    0,     0, 17038]])"
      ]
     },
     "execution_count": 13,
     "metadata": {},
     "output_type": "execute_result"
    }
   ],
   "source": [
    "from sklearn.metrics import confusion_matrix\n",
    "\n",
    "confusion_matrix(y_pred, y_train)"
   ]
  },
  {
   "cell_type": "code",
   "execution_count": 14,
   "metadata": {},
   "outputs": [
    {
     "data": {
      "text/plain": [
       "array([[7049,  552, 1193],\n",
       "       [ 209,  343,   96],\n",
       "       [ 765,  147, 4496]])"
      ]
     },
     "execution_count": 14,
     "metadata": {},
     "output_type": "execute_result"
    }
   ],
   "source": [
    "y_pred = pipeline.predict(X_val)\n",
    "confusion_matrix(y_pred, y_val)"
   ]
  },
  {
   "cell_type": "code",
   "execution_count": 15,
   "metadata": {},
   "outputs": [
    {
     "data": {
      "text/html": [
       "<div>\n",
       "<style scoped>\n",
       "    .dataframe tbody tr th:only-of-type {\n",
       "        vertical-align: middle;\n",
       "    }\n",
       "\n",
       "    .dataframe tbody tr th {\n",
       "        vertical-align: top;\n",
       "    }\n",
       "\n",
       "    .dataframe thead th {\n",
       "        text-align: right;\n",
       "    }\n",
       "</style>\n",
       "<table border=\"1\" class=\"dataframe\">\n",
       "  <thead>\n",
       "    <tr style=\"text-align: right;\">\n",
       "      <th></th>\n",
       "      <th>predicted functional</th>\n",
       "      <th>predicted functional needs repair</th>\n",
       "      <th>predicted non functional</th>\n",
       "    </tr>\n",
       "  </thead>\n",
       "  <tbody>\n",
       "    <tr>\n",
       "      <th>actual functional</th>\n",
       "      <td>7049</td>\n",
       "      <td>552</td>\n",
       "      <td>1193</td>\n",
       "    </tr>\n",
       "    <tr>\n",
       "      <th>actual functional needs repair</th>\n",
       "      <td>209</td>\n",
       "      <td>343</td>\n",
       "      <td>96</td>\n",
       "    </tr>\n",
       "    <tr>\n",
       "      <th>actual non functional</th>\n",
       "      <td>765</td>\n",
       "      <td>147</td>\n",
       "      <td>4496</td>\n",
       "    </tr>\n",
       "  </tbody>\n",
       "</table>\n",
       "</div>"
      ],
      "text/plain": [
       "                                predicted functional  \\\n",
       "actual functional                               7049   \n",
       "actual functional needs repair                   209   \n",
       "actual non functional                            765   \n",
       "\n",
       "                                predicted functional needs repair  \\\n",
       "actual functional                                             552   \n",
       "actual functional needs repair                                343   \n",
       "actual non functional                                         147   \n",
       "\n",
       "                                predicted non functional  \n",
       "actual functional                                   1193  \n",
       "actual functional needs repair                        96  \n",
       "actual non functional                               4496  "
      ]
     },
     "execution_count": 15,
     "metadata": {},
     "output_type": "execute_result"
    }
   ],
   "source": [
    "columns = [\"predicted \" + s for s in [\"functional\", \"functional needs repair\", \"non functional\"]]\n",
    "index = [\"actual \" + s for s in [\"functional\", \"functional needs repair\", \"non functional\"]]\n",
    "\n",
    "df = pd.DataFrame(confusion_matrix(y_pred, y_val), columns=columns, index=index)\n",
    "df.head()"
   ]
  },
  {
   "cell_type": "code",
   "execution_count": 18,
   "metadata": {},
   "outputs": [
    {
     "data": {
      "text/plain": [
       "<matplotlib.axes._subplots.AxesSubplot at 0x7fb3a599e4a8>"
      ]
     },
     "execution_count": 18,
     "metadata": {},
     "output_type": "execute_result"
    },
    {
     "data": {
      "image/png": "[encoded data removed]",
      "text/plain": [
       "<matplotlib.figure.Figure at 0x7fb3bbe2d470>"
      ]
     },
     "metadata": {
      "needs_background": "light"
     },
     "output_type": "display_data"
    }
   ],
   "source": [
    "import seaborn as sns\n",
    "\n",
    "sns.heatmap(df, fmt=\"d\", annot=True)"
   ]
  },
  {
   "cell_type": "code",
   "execution_count": null,
   "metadata": {},
   "outputs": [],
   "source": [
    "true_pos = 4496\n",
    "false_pos = 96 + 1193\n",
    "\n"
   ]
  }
 ],
 "metadata": {
  "colab": {
   "collapsed_sections": [],
   "name": "assignment_kaggle_challenge_4.ipynb",
   "provenance": [],
   "version": "0.3.2"
  },
  "kernelspec": {
   "display_name": "Python 3",
   "language": "python",
   "name": "python3"
  },
  "language_info": {
   "codemirror_mode": {
    "name": "ipython",
    "version": 3
   },
   "file_extension": ".py",
   "mimetype": "text/x-python",
   "name": "python",
   "nbconvert_exporter": "python",
   "pygments_lexer": "ipython3",
   "version": "3.6.9"
  }
 },
 "nbformat": 4,
 "nbformat_minor": 4
}
